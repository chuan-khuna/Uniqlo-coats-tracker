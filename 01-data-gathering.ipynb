{
 "cells": [
  {
   "cell_type": "code",
   "execution_count": 1,
   "id": "a3f7ed31",
   "metadata": {},
   "outputs": [],
   "source": [
    "import requests\n",
    "import json\n",
    "import yaml\n",
    "from datetime import datetime\n",
    "\n",
    "from utils.misc import *\n",
    "import re"
   ]
  },
  {
   "cell_type": "code",
   "execution_count": 2,
   "id": "7c4036a0",
   "metadata": {},
   "outputs": [],
   "source": [
    "headers = {\n",
    "    \"user-agent\":\n",
    "        \"Mozilla/5.0 (Macintosh; Intel Mac OS X 10_15_7) AppleWebKit/537.36 (KHTML, like Gecko) Chrome/107.0.0.0 Safari/537.36\"\n",
    "}"
   ]
  },
  {
   "cell_type": "code",
   "execution_count": 3,
   "id": "4ce0c5e6",
   "metadata": {},
   "outputs": [
    {
     "data": {
      "text/plain": [
       "'2023-03-18-11'"
      ]
     },
     "execution_count": 3,
     "metadata": {},
     "output_type": "execute_result"
    }
   ],
   "source": [
    "timestamp = datetime.now()\n",
    "timestamp_str = datetime.strftime(timestamp, \"%Y-%m-%d-%H\")\n",
    "timestamp_str"
   ]
  },
  {
   "cell_type": "code",
   "execution_count": 4,
   "id": "78aa5e3d",
   "metadata": {},
   "outputs": [],
   "source": [
    "save_paths = {'api_all_outerwear.yml': 'outerwear', 'api_coats.yml': 'coats'}\n"
   ]
  },
  {
   "cell_type": "code",
   "execution_count": 5,
   "id": "c6441c94",
   "metadata": {},
   "outputs": [],
   "source": [
    "def format_url(url, limit=128, offset=0):\n",
    "    url = re.sub(r\"limit=([0-9]+)\", f\"limit={limit}\", url)\n",
    "    url = re.sub(r\"offset=([0-9]+)\", f\"offset={offset}\", url)\n",
    "    return url\n",
    "\n",
    "\n",
    "def get_all_items(url):\n",
    "    responses = []\n",
    "\n",
    "    queried_items = 0\n",
    "    page_items = 32\n",
    "\n",
    "    # query total data\n",
    "    new_url = format_url(url, page_items, 0)\n",
    "    res = requests.get(new_url, headers=headers, timeout=8)\n",
    "    res = res.json()\n",
    "    total = res['result']['pagination']['total']\n",
    "\n",
    "    while queried_items < total:\n",
    "        print(\".\", end='')\n",
    "\n",
    "        res = requests.get(new_url, headers=headers, timeout=8)\n",
    "        res = res.json()\n",
    "        responses.append(res['result'])\n",
    "        count = res['result']['pagination']['count']\n",
    "        total = res['result']['pagination']['total']\n",
    "        offset = res['result']['pagination']['offset']\n",
    "        queried_items += count\n",
    "\n",
    "        new_url = format_url(url, page_items, offset)\n",
    "    print('')\n",
    "    return responses"
   ]
  },
  {
   "cell_type": "code",
   "execution_count": 6,
   "id": "20694b75",
   "metadata": {},
   "outputs": [
    {
     "name": "stdout",
     "output_type": "stream",
     "text": [
      "jp women\n",
      "...\n",
      "jp men\n",
      "...\n",
      "th women\n",
      "..\n",
      "th men\n",
      "..\n",
      "au women\n",
      "...\n",
      "au men\n",
      "..\n",
      "ca women\n",
      "..\n",
      "ca men\n",
      "..\n",
      "us women\n",
      "...\n",
      "us men\n",
      "...\n",
      "jp women\n",
      ".\n",
      "jp men\n",
      ".\n",
      "th women\n",
      "\n",
      "th men\n",
      "\n",
      "au women\n",
      ".\n",
      "au men\n",
      ".\n",
      "ca women\n",
      ".\n",
      "ca men\n",
      ".\n",
      "us women\n",
      ".\n",
      "us men\n",
      ".\n"
     ]
    }
   ],
   "source": [
    "for config_file, save_path in save_paths.items():\n",
    "    raw_data_path = f\"./{save_path}/{timestamp_str}/\"\n",
    "    create_path_if_not_exist(raw_data_path)\n",
    "\n",
    "    data = load_yaml(config_file)\n",
    "\n",
    "    for country in data.keys():\n",
    "        contry_data = data[country]\n",
    "\n",
    "        country_data_path = raw_data_path + f\"/{country}/\"\n",
    "        create_path_if_not_exist(country_data_path)\n",
    "\n",
    "        for gender in contry_data.keys():\n",
    "            url = contry_data[gender]\n",
    "            try:\n",
    "                print(country, gender)\n",
    "                res = get_all_items(url)\n",
    "                with open(country_data_path + f\"{gender}.json\", \"w\") as f:\n",
    "                    f.write(json.dumps(res, indent=2, ensure_ascii=False))\n",
    "            except Exception as e:\n",
    "                print(\"Fail to request\", country, gender)\n",
    "                print(e)"
   ]
  }
 ],
 "metadata": {
  "kernelspec": {
   "display_name": "base",
   "language": "python",
   "name": "python3"
  },
  "language_info": {
   "codemirror_mode": {
    "name": "ipython",
    "version": 3
   },
   "file_extension": ".py",
   "mimetype": "text/x-python",
   "name": "python",
   "nbconvert_exporter": "python",
   "pygments_lexer": "ipython3",
   "version": "3.10.6"
  },
  "vscode": {
   "interpreter": {
    "hash": "c6e4e9f98eb68ad3b7c296f83d20e6de614cb42e90992a65aa266555a3137d0d"
   }
  }
 },
 "nbformat": 4,
 "nbformat_minor": 5
}
