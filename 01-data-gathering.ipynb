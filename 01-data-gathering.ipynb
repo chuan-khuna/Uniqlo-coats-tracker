{
 "cells": [
  {
   "cell_type": "code",
   "execution_count": 1,
   "id": "5981fa89-e275-4ed3-ba02-b5cc8ea170c2",
   "metadata": {},
   "outputs": [],
   "source": [
    "import requests\n",
    "import json\n",
    "import yaml\n",
    "from datetime import datetime\n",
    "\n",
    "from utils.misc import *"
   ]
  },
  {
   "cell_type": "code",
   "execution_count": 2,
   "id": "ec33a03a-ea7e-41cb-a072-f4ecd603ed19",
   "metadata": {},
   "outputs": [],
   "source": [
    "headers = {\n",
    "    \"user-agent\": \"Mozilla/5.0 (Macintosh; Intel Mac OS X 10_15_7) AppleWebKit/537.36 (KHTML, like Gecko) Chrome/107.0.0.0 Safari/537.36\"\n",
    "}"
   ]
  },
  {
   "cell_type": "code",
   "execution_count": 3,
   "id": "2b8e0f7a-d59a-4497-8911-3938fbee96ae",
   "metadata": {},
   "outputs": [
    {
     "data": {
      "text/plain": [
       "'2023-01-06-10'"
      ]
     },
     "execution_count": 3,
     "metadata": {},
     "output_type": "execute_result"
    }
   ],
   "source": [
    "timestamp = datetime.now()\n",
    "timestamp_str = datetime.strftime(timestamp, \"%Y-%m-%d-%H\")\n",
    "timestamp_str"
   ]
  },
  {
   "cell_type": "code",
   "execution_count": 4,
   "id": "7c0bb2a5-4f9e-4c74-9698-92636ae94380",
   "metadata": {},
   "outputs": [],
   "source": [
    "raw_data_path = f\"./raw/{timestamp_str}/\"\n",
    "create_path_if_not_exist(raw_data_path)"
   ]
  },
  {
   "cell_type": "code",
   "execution_count": 5,
   "id": "264b10ce-970d-4fb6-a473-d635f1ec115d",
   "metadata": {},
   "outputs": [],
   "source": [
    "data = load_yaml(\"./api_data.yml\")"
   ]
  },
  {
   "cell_type": "code",
   "execution_count": 6,
   "id": "b7aade2f-a3be-4696-9eed-8c3f10180a57",
   "metadata": {},
   "outputs": [
    {
     "name": "stdout",
     "output_type": "stream",
     "text": [
      "jp women\n",
      "jp men\n",
      "th women\n",
      "th men\n",
      "au women\n",
      "au men\n",
      "ca women\n",
      "ca men\n",
      "us women\n",
      "us men\n"
     ]
    }
   ],
   "source": [
    "for country in data.keys():\n",
    "    contry_data = data[country]\n",
    "\n",
    "    country_data_path = raw_data_path + f\"/{country}/\"\n",
    "    create_path_if_not_exist(country_data_path)\n",
    "    \n",
    "    for gender in contry_data.keys():\n",
    "        url = contry_data[gender]\n",
    "        try:\n",
    "            res = requests.get(url, timeout=3, headers=headers)\n",
    "            print(country, gender)\n",
    "            with open(country_data_path + f\"{gender}.json\", \"w\") as f:\n",
    "                f.write(json.dumps(res.json(), indent=2, ensure_ascii=False))\n",
    "        except Exception as e:\n",
    "            print(\"Fail to request\", country, gender)\n",
    "            print(e)"
   ]
  }
 ],
 "metadata": {
  "kernelspec": {
   "display_name": "Python 3.10.5 ('base')",
   "language": "python",
   "name": "python3"
  },
  "language_info": {
   "codemirror_mode": {
    "name": "ipython",
    "version": 3
   },
   "file_extension": ".py",
   "mimetype": "text/x-python",
   "name": "python",
   "nbconvert_exporter": "python",
   "pygments_lexer": "ipython3",
   "version": "3.10.6"
  },
  "vscode": {
   "interpreter": {
    "hash": "c6e4e9f98eb68ad3b7c296f83d20e6de614cb42e90992a65aa266555a3137d0d"
   }
  }
 },
 "nbformat": 4,
 "nbformat_minor": 5
}
